{
 "cells": [
  {
   "cell_type": "code",
   "execution_count": null,
   "id": "503a33d0-6b69-413b-ac81-434e5448743e",
   "metadata": {},
   "outputs": [],
   "source": [
    "from __future__ import annotations\n",
    "\n",
    "import pyvista as pv\n",
    "from pyvista import examples\n",
    "import os\n",
    "\n",
    "# Download a volumetric dataset\n",
    "vol = examples.download_knee_full()\n",
    "# A nice camera position\n",
    "cpos = [(-381.74, -46.02, 216.54), (74.8305, 89.2905, 100.0), (0.23, 0.072, 0.97)]\n",
    "\n",
    "vol.plot(volume=True, cmap=\"bone\", cpos=cpos)\n"
   ]
  },
  {
   "cell_type": "code",
   "execution_count": null,
   "id": "fe2219cd-29e3-48de-b35d-754462b3198b",
   "metadata": {},
   "outputs": [],
   "source": []
  }
 ],
 "metadata": {
  "kernelspec": {
   "display_name": "Python 3 (ipykernel)",
   "language": "python",
   "name": "python3"
  },
  "language_info": {
   "codemirror_mode": {
    "name": "ipython",
    "version": 3
   },
   "file_extension": ".py",
   "mimetype": "text/x-python",
   "name": "python",
   "nbconvert_exporter": "python",
   "pygments_lexer": "ipython3",
   "version": "3.12.7"
  }
 },
 "nbformat": 4,
 "nbformat_minor": 5
}
